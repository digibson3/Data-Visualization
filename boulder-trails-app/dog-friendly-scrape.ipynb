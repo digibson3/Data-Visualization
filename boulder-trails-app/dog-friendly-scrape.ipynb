{
 "cells": [
  {
   "cell_type": "code",
   "execution_count": 2,
   "metadata": {},
   "outputs": [],
   "source": [
    "# Import Libraries\n",
    "import osmnx as ox\n",
    "import pandas as pd"
   ]
  },
  {
   "cell_type": "code",
   "execution_count": 4,
   "metadata": {},
   "outputs": [],
   "source": [
    "# 1. Pull Restaurants + Breweries\n",
    "place_name = \"Boulder, Colorado, USA\"\n",
    "tags = {\"amenity\": [\"restaurant\", \"bar\", \"pub\", \"brewery\"]}"
   ]
  },
  {
   "cell_type": "code",
   "execution_count": 5,
   "metadata": {},
   "outputs": [
    {
     "name": "stdout",
     "output_type": "stream",
     "text": [
      "Pulling restaurants/bars/pubs/breweries...\n",
      "Pulled 193 total places.\n"
     ]
    }
   ],
   "source": [
    "# --- STEP 1: Pull Restaurants, Bars, Pubs, Breweries ---\n",
    "print(\"Pulling restaurants/bars/pubs/breweries...\")\n",
    "\n",
    "restaurant_tags = {\"amenity\": [\"restaurant\", \"bar\", \"pub\", \"brewery\"]}\n",
    "places = ox.features_from_place(place_name, tags=restaurant_tags)\n",
    "print(f\"Pulled {len(places)} total places.\")"
   ]
  },
  {
   "cell_type": "code",
   "execution_count": 6,
   "metadata": {},
   "outputs": [
    {
     "name": "stdout",
     "output_type": "stream",
     "text": [
      "Filtering for dog-friendly restaurants and breweries...\n",
      "Found 17 dog-friendly restaurants/breweries.\n"
     ]
    }
   ],
   "source": [
    "# --- STEP 2: Filter Dog-Friendly Restaurants/Breweries ---\n",
    "# --- STEP 2: Filter Dog-Friendly Restaurants/Breweries ---\n",
    "def is_dog_friendly(row):\n",
    "    dog_tags = ['dog', 'dogs', 'dog_friendly', 'outdoor_seating', 'notes']\n",
    "    for tag in dog_tags:\n",
    "        val = row.get(tag)\n",
    "        if isinstance(val, str) and \"yes\" in val.lower():\n",
    "            return True\n",
    "    return False\n",
    "\n",
    "print(\"Filtering for dog-friendly restaurants and breweries...\")\n",
    "dog_friendly_places = places[places.apply(is_dog_friendly, axis=1)]\n",
    "print(f\"Found {len(dog_friendly_places)} dog-friendly restaurants/breweries.\")\n"
   ]
  },
  {
   "cell_type": "code",
   "execution_count": 7,
   "metadata": {},
   "outputs": [],
   "source": [
    "# 3. Reproject to a Projected CRS (meters, not lat/lon)\n",
    "dog_friendly_places = dog_friendly_places.to_crs(epsg=3857)  # Web Mercator for map work\n"
   ]
  },
  {
   "cell_type": "code",
   "execution_count": 8,
   "metadata": {},
   "outputs": [],
   "source": [
    "# 4. Fix Geometry (Centroid)\n",
    "dog_friendly_places.loc[:, 'geometry'] = dog_friendly_places.geometry.centroid"
   ]
  },
  {
   "cell_type": "code",
   "execution_count": 9,
   "metadata": {},
   "outputs": [],
   "source": [
    "# 5. Back to WGS84 (lat/lon)\n",
    "dog_friendly_places = dog_friendly_places.to_crs(epsg=4326)"
   ]
  },
  {
   "cell_type": "code",
   "execution_count": 10,
   "metadata": {},
   "outputs": [],
   "source": [
    "# 6. Extract Info\n",
    "dog_friendly_places['latitude'] = dog_friendly_places.geometry.y\n",
    "dog_friendly_places['longitude'] = dog_friendly_places.geometry.x\n",
    "dog_friendly_places['place_type'] = dog_friendly_places['amenity']\n",
    "\n",
    "dog_friendly_df = dog_friendly_places[['name', 'latitude', 'longitude', 'place_type']].dropna()\n"
   ]
  },
  {
   "cell_type": "code",
   "execution_count": 11,
   "metadata": {},
   "outputs": [
    {
     "name": "stdout",
     "output_type": "stream",
     "text": [
      "Saved 17 dog-friendly places!\n"
     ]
    }
   ],
   "source": [
    "# 7. Save Dog-Friendly Places\n",
    "dog_friendly_df.to_csv(\"../boulder-trails-app/data/dog_friendly_places.csv\", index=False)\n",
    "print(f\"Saved {len(dog_friendly_df)} dog-friendly places!\")"
   ]
  },
  {
   "cell_type": "code",
   "execution_count": 12,
   "metadata": {},
   "outputs": [
    {
     "name": "stdout",
     "output_type": "stream",
     "text": [
      "Pulling dog parks...\n",
      "Pulled 9 dog parks.\n"
     ]
    }
   ],
   "source": [
    "# 8. Pull Dog Parks\n",
    "dog_park_tags = {\"leisure\": \"dog_park\"}\n",
    "print(\"Pulling dog parks...\")\n",
    "dog_parks = ox.features_from_place(place_name, tags=dog_park_tags)\n",
    "print(f\"Pulled {len(dog_parks)} dog parks.\")"
   ]
  },
  {
   "cell_type": "code",
   "execution_count": 13,
   "metadata": {},
   "outputs": [],
   "source": [
    "\n",
    "# 9. Reproject dog parks to meters\n",
    "dog_parks = dog_parks.to_crs(epsg=3857)\n",
    "\n",
    "# 10. Fix Geometry\n",
    "dog_parks.loc[:, 'geometry'] = dog_parks.geometry.centroid\n",
    "\n",
    "# 11. Back to lat/lon\n",
    "dog_parks = dog_parks.to_crs(epsg=4326)\n"
   ]
  },
  {
   "cell_type": "code",
   "execution_count": 14,
   "metadata": {},
   "outputs": [
    {
     "name": "stdout",
     "output_type": "stream",
     "text": [
      "Saved 6 dog parks!\n"
     ]
    }
   ],
   "source": [
    "# 12. Extract Info\n",
    "dog_parks['latitude'] = dog_parks.geometry.y\n",
    "dog_parks['longitude'] = dog_parks.geometry.x\n",
    "\n",
    "dog_parks_df = dog_parks[['name', 'latitude', 'longitude']].dropna()\n",
    "\n",
    "# 13. Save Dog Parks\n",
    "dog_parks_df.to_csv(\"../boulder-trails-app/data/dog_parks.csv\", index=False)\n",
    "print(f\"Saved {len(dog_parks_df)} dog parks!\")"
   ]
  },
  {
   "cell_type": "code",
   "execution_count": 15,
   "metadata": {},
   "outputs": [
    {
     "name": "stdout",
     "output_type": "stream",
     "text": [
      "Pulling veterinary clinics and hospitals...\n",
      "Pulled 7 vet places.\n"
     ]
    }
   ],
   "source": [
    "# pull in Vet info\n",
    "# --- STEP 1: Pull Veterinary Places ---\n",
    "vet_tags = {\"amenity\": \"veterinary\"}\n",
    "print(\"Pulling veterinary clinics and hospitals...\")\n",
    "vets = ox.features_from_place(place_name, tags=vet_tags)\n",
    "print(f\"Pulled {len(vets)} vet places.\")"
   ]
  },
  {
   "cell_type": "code",
   "execution_count": 16,
   "metadata": {},
   "outputs": [],
   "source": [
    "# --- STEP 2: Fix Geometry ---\n",
    "vets = vets.to_crs(epsg=3857)  # Project to meters\n",
    "vets.loc[:, 'geometry'] = vets.geometry.centroid\n",
    "vets = vets.to_crs(epsg=4326)  # Back to lat/lon"
   ]
  },
  {
   "cell_type": "code",
   "execution_count": 17,
   "metadata": {},
   "outputs": [],
   "source": [
    "# --- STEP 3: Extract Info ---\n",
    "vets['latitude'] = vets.geometry.y\n",
    "vets['longitude'] = vets.geometry.x\n",
    "\n",
    "vets_df = vets[['name', 'latitude', 'longitude']].dropna()"
   ]
  },
  {
   "cell_type": "code",
   "execution_count": 21,
   "metadata": {},
   "outputs": [],
   "source": [
    "# --- STEP 4: Build Final DataFrame ---\n",
    "vets_df = vets[['name', 'latitude', 'longitude']].dropna()"
   ]
  },
  {
   "cell_type": "code",
   "execution_count": 22,
   "metadata": {},
   "outputs": [
    {
     "name": "stdout",
     "output_type": "stream",
     "text": [
      "Saved 7 veterinarians.\n"
     ]
    }
   ],
   "source": [
    "# --- STEP 5: Save Combined CSV ---\n",
    "vets_df.to_csv(\"../boulder-trails-app/data/veterinarians.csv\", index=False)\n",
    "print(f\"Saved {len(vets_df)} veterinarians.\")\n"
   ]
  }
 ],
 "metadata": {
  "kernelspec": {
   "display_name": "dev",
   "language": "python",
   "name": "python3"
  },
  "language_info": {
   "codemirror_mode": {
    "name": "ipython",
    "version": 3
   },
   "file_extension": ".py",
   "mimetype": "text/x-python",
   "name": "python",
   "nbconvert_exporter": "python",
   "pygments_lexer": "ipython3",
   "version": "3.10.16"
  }
 },
 "nbformat": 4,
 "nbformat_minor": 2
}
